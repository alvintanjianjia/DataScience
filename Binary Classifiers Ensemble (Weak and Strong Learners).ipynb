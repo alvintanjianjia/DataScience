{
 "cells": [
  {
   "cell_type": "code",
   "execution_count": 22,
   "metadata": {},
   "outputs": [],
   "source": [
    "import pandas as pd\n",
    "import numpy as np\n",
    "import pickle\n",
    "import time\n",
    "import seaborn as sns\n",
    "\n",
    "from sklearn.model_selection import RandomizedSearchCV\n",
    "from sklearn.ensemble import RandomForestClassifier\n",
    "from sklearn.svm import SVC\n",
    "from sklearn.neural_network import MLPClassifier\n",
    "from xgboost.sklearn import XGBClassifier\n",
    "from sklearn.linear_model import LogisticRegression\n",
    "from sklearn.naive_bayes import GaussianNB\n",
    "from sklearn.discriminant_analysis import LinearDiscriminantAnalysis\n",
    "from scipy.stats import randint, uniform\n",
    "from sklearn import datasets, metrics\n",
    "\n",
    "%matplotlib inline\n",
    "import matplotlib.pyplot as plt\n"
   ]
  },
  {
   "cell_type": "code",
   "execution_count": 5,
   "metadata": {},
   "outputs": [],
   "source": [
    "\n",
    "# models that we want to test\n",
    "model = {\n",
    "    'logistic': LogisticRegression(max_iter=500),\n",
    "    'lda': LinearDiscriminantAnalysis(), \n",
    "    'svc': SVC(kernel='rbf'),\n",
    "    'naivebayes': GaussianNB(),\n",
    "    'rf': RandomForestClassifier(n_estimators=100),\n",
    "    'xgboost': XGBClassifier(),\n",
    "    'mlp': MLPClassifier(max_iter=500)\n",
    "}"
   ]
  },
  {
   "cell_type": "code",
   "execution_count": 13,
   "metadata": {},
   "outputs": [],
   "source": [
    "iris = datasets.load_breast_cancer()\n",
    "features = iris.data\n",
    "labels = iris.target"
   ]
  },
  {
   "cell_type": "code",
   "execution_count": 14,
   "metadata": {},
   "outputs": [],
   "source": [
    "# hyperparameters grid for models that we want to test\n",
    "model_params = {\n",
    "    'logistic': {\n",
    "        'solver' : ['liblinear', 'saga'],\n",
    "        'C' : [1e-3, 1e-2, 0.1, 1, 10, 100]\n",
    "    },\n",
    "    'lda': {\n",
    "        'solver': ['svd', 'lsqr'],\n",
    "         'tol': [1e-6, 1e-5, 1e-4, 1e-3, 1e-2]\n",
    "    },\n",
    "    'svc': {\n",
    "        'gamma': [0.1, 1, 10, 100],\n",
    "        'C': [0.1, 1, 10, 100, 1000]\n",
    "    },\n",
    "    'naivebayes': {\n",
    "        'var_smoothing': [1e-11, 1e-10, 1e-09, 1e-08, 1e-7]\n",
    "    },\n",
    "    'rf': {\n",
    "        'max_depth': randint(10, 100),\n",
    "        'max_features': ['auto', 'sqrt'],\n",
    "        'min_samples_leaf': randint(1, 4),\n",
    "        'min_samples_split': randint(2, 10),\n",
    "        'bootstrap': [True, False]\n",
    "    },\n",
    "    'xgboost': {\n",
    "        'max_depth': randint(1,6),\n",
    "        'min_child_weight': randint(0,6),\n",
    "        'subsample': uniform(loc=0.6, scale=0.4),\n",
    "        'colsample_bytree': uniform(loc=0.6, scale=0.4),\n",
    "        'gamma': [i/10.0 for i in range(0,5)],\n",
    "        'reg_alpha': [1e-5, 1e-2, 0.1, 1, 100]\n",
    "    }, \n",
    "    'mlp': {\n",
    "        'hidden_layer_sizes': [(50,50,50), (50,100,50), (100,)],\n",
    "        'activation': ['tanh', 'relu'],\n",
    "        'solver': ['sgd', 'adam'],\n",
    "        'alpha': [0.0001, 0.05],\n",
    "        'learning_rate': ['constant','adaptive']\n",
    "    }\n",
    "}"
   ]
  },
  {
   "cell_type": "code",
   "execution_count": 19,
   "metadata": {},
   "outputs": [
    {
     "name": "stdout",
     "output_type": "stream",
     "text": [
      "Currently computing for logistic\n",
      "Iteration 1\n",
      "Iteration 2\n",
      "Iteration 3\n",
      "Iteration 4\n",
      "Iteration 5\n",
      "Currently computing for lda\n",
      "Iteration 1\n",
      "Iteration 2\n",
      "Iteration 3\n",
      "Iteration 4\n",
      "Iteration 5\n",
      "Currently computing for svc\n",
      "Iteration 1\n",
      "Iteration 2\n",
      "Iteration 3\n",
      "Iteration 4\n",
      "Iteration 5\n",
      "Currently computing for naivebayes\n",
      "Iteration 1\n",
      "Iteration 2\n",
      "Iteration 3\n",
      "Iteration 4\n",
      "Iteration 5\n",
      "Currently computing for rf\n",
      "Iteration 1\n",
      "Iteration 2\n",
      "Iteration 3\n",
      "Iteration 4\n",
      "Iteration 5\n",
      "Currently computing for xgboost\n",
      "Iteration 1\n"
     ]
    },
    {
     "name": "stderr",
     "output_type": "stream",
     "text": [
      "C:\\ProgramData\\Anaconda3\\lib\\site-packages\\sklearn\\externals\\joblib\\externals\\loky\\process_executor.py:706: UserWarning: A worker stopped while some jobs were given to the executor. This can be caused by a too short worker timeout or by a memory leak.\n",
      "  \"timeout or by a memory leak.\", UserWarning\n"
     ]
    },
    {
     "name": "stdout",
     "output_type": "stream",
     "text": [
      "Iteration 2\n",
      "Iteration 3\n",
      "Iteration 4\n",
      "Iteration 5\n",
      "Currently computing for mlp\n",
      "Iteration 1\n",
      "Iteration 2\n",
      "Iteration 3\n",
      "Iteration 4\n",
      "Iteration 5\n",
      "Training Done! Time Used: 24.83521795272827\n"
     ]
    }
   ],
   "source": [
    "model_config = {}\n",
    "\n",
    "col_sample = 0.7\n",
    "n_init = 5\n",
    "\n",
    "start_time = time.time()\n",
    "\n",
    "# for every models\n",
    "for key in model:\n",
    "    print(\"Currently computing for\", key)\n",
    "    \n",
    "    best_match = {}\n",
    "    \n",
    "    # sample (col_sample %) of the columns randomly (n_init) times\n",
    "    for i in range(n_init):\n",
    "        print('Iteration', i + 1)\n",
    "        # sample 70% of the columns randomly\n",
    "        \n",
    "        \n",
    "        # randomized search through the hyperparameters grid\n",
    "        rand_search = RandomizedSearchCV(estimator = model[key], \n",
    "                                         param_distributions=model_params[key], \n",
    "                                         scoring='roc_auc', \n",
    "                                         n_iter=5, \n",
    "                                         iid=False, \n",
    "                                         cv=5, \n",
    "                                         n_jobs=-1)\n",
    "        rand_search.fit(features, labels)\n",
    "        \n",
    "        # update the best model's hyperparameters and columns used\n",
    "        if i == 0:\n",
    "            best_match['model'] = key\n",
    "            #best_match['col_names'] = features.columns\n",
    "            best_match['hyperparams'] = rand_search.best_params_\n",
    "            best_match['roc'] = rand_search.best_score_\n",
    "        elif rand_search.best_score_ > best_match['roc']:\n",
    "            best_match['model'] = key\n",
    "            #best_match['col_names'] = features.columns\n",
    "            best_match['hyperparams'] = rand_search.best_params_\n",
    "            best_match['roc'] = rand_search.best_score_\n",
    "    \n",
    "    model_config[key] = best_match\n",
    "    \n",
    "print('Training Done! Time Used:', time.time() - start_time)"
   ]
  },
  {
   "cell_type": "code",
   "execution_count": 20,
   "metadata": {},
   "outputs": [
    {
     "data": {
      "text/plain": [
       "{'logistic': LogisticRegression(C=1.0, class_weight=None, dual=False, fit_intercept=True,\n",
       "           intercept_scaling=1, max_iter=500, multi_class='warn',\n",
       "           n_jobs=None, penalty='l2', random_state=None, solver='warn',\n",
       "           tol=0.0001, verbose=0, warm_start=False),\n",
       " 'lda': LinearDiscriminantAnalysis(n_components=None, priors=None, shrinkage=None,\n",
       "               solver='svd', store_covariance=False, tol=0.0001),\n",
       " 'svc': SVC(C=1.0, cache_size=200, class_weight=None, coef0=0.0,\n",
       "   decision_function_shape='ovr', degree=3, gamma='auto_deprecated',\n",
       "   kernel='rbf', max_iter=-1, probability=False, random_state=None,\n",
       "   shrinking=True, tol=0.001, verbose=False),\n",
       " 'naivebayes': GaussianNB(priors=None, var_smoothing=1e-09),\n",
       " 'rf': RandomForestClassifier(bootstrap=True, class_weight=None, criterion='gini',\n",
       "             max_depth=None, max_features='auto', max_leaf_nodes=None,\n",
       "             min_impurity_decrease=0.0, min_impurity_split=None,\n",
       "             min_samples_leaf=1, min_samples_split=2,\n",
       "             min_weight_fraction_leaf=0.0, n_estimators=100, n_jobs=None,\n",
       "             oob_score=False, random_state=None, verbose=0,\n",
       "             warm_start=False),\n",
       " 'xgboost': XGBClassifier(base_score=0.5, booster='gbtree', colsample_bylevel=1,\n",
       "        colsample_bynode=1, colsample_bytree=1, gamma=0, learning_rate=0.1,\n",
       "        max_delta_step=0, max_depth=3, min_child_weight=1, missing=None,\n",
       "        n_estimators=100, n_jobs=1, nthread=None,\n",
       "        objective='binary:logistic', random_state=0, reg_alpha=0,\n",
       "        reg_lambda=1, scale_pos_weight=1, seed=None, silent=None,\n",
       "        subsample=1, verbosity=1),\n",
       " 'mlp': MLPClassifier(activation='relu', alpha=0.0001, batch_size='auto', beta_1=0.9,\n",
       "        beta_2=0.999, early_stopping=False, epsilon=1e-08,\n",
       "        hidden_layer_sizes=(100,), learning_rate='constant',\n",
       "        learning_rate_init=0.001, max_iter=500, momentum=0.9,\n",
       "        n_iter_no_change=10, nesterovs_momentum=True, power_t=0.5,\n",
       "        random_state=None, shuffle=True, solver='adam', tol=0.0001,\n",
       "        validation_fraction=0.1, verbose=False, warm_start=False)}"
      ]
     },
     "execution_count": 20,
     "metadata": {},
     "output_type": "execute_result"
    }
   ],
   "source": [
    "model"
   ]
  },
  {
   "cell_type": "code",
   "execution_count": 25,
   "metadata": {},
   "outputs": [
    {
     "data": {
      "text/plain": [
       "{'model': 'xgboost',\n",
       " 'hyperparams': {'colsample_bytree': 0.7521784798386932,\n",
       "  'gamma': 0.2,\n",
       "  'max_depth': 2,\n",
       "  'min_child_weight': 1,\n",
       "  'reg_alpha': 0.1,\n",
       "  'subsample': 0.6657247523130542},\n",
       " 'roc': 0.9931108615517396}"
      ]
     },
     "execution_count": 25,
     "metadata": {},
     "output_type": "execute_result"
    }
   ],
   "source": [
    "model_config['xgboost']"
   ]
  },
  {
   "cell_type": "code",
   "execution_count": 30,
   "metadata": {},
   "outputs": [],
   "source": [
    "logistic = LogisticRegression(**model_config['logistic']['hyperparams'], max_iter=500)\n",
    "logistic.fit(features, labels)\n",
    "pred_logistic = logistic.predict_proba(features)"
   ]
  },
  {
   "cell_type": "code",
   "execution_count": 34,
   "metadata": {},
   "outputs": [],
   "source": [
    "naivebayes = GaussianNB(**model_config['naivebayes']['hyperparams'])\n",
    "naivebayes.fit(features, labels)\n",
    "pred_naivebayes = naivebayes.predict_proba(features)"
   ]
  },
  {
   "cell_type": "code",
   "execution_count": 33,
   "metadata": {},
   "outputs": [],
   "source": [
    "lda = LinearDiscriminantAnalysis(**model_config['lda']['hyperparams'])\n",
    "lda.fit(features, labels)\n",
    "pred_lda = lda.predict_proba(features)"
   ]
  },
  {
   "cell_type": "code",
   "execution_count": 36,
   "metadata": {},
   "outputs": [],
   "source": [
    "xgboost = XGBClassifier(**model_config['xgboost']['hyperparams'])\n",
    "xgboost.fit(features, labels)\n",
    "pred_xgboost = xgboost.predict_proba(features)"
   ]
  },
  {
   "cell_type": "code",
   "execution_count": 37,
   "metadata": {},
   "outputs": [],
   "source": [
    "mlp = MLPClassifier(**model_config['mlp']['hyperparams'], max_iter=500)\n",
    "mlp.fit(features, labels)\n",
    "pred_mlp = mlp.predict_proba(features)"
   ]
  },
  {
   "cell_type": "code",
   "execution_count": 39,
   "metadata": {},
   "outputs": [
    {
     "name": "stderr",
     "output_type": "stream",
     "text": [
      "C:\\ProgramData\\Anaconda3\\lib\\site-packages\\sklearn\\ensemble\\forest.py:246: FutureWarning: The default value of n_estimators will change from 10 in version 0.20 to 100 in 0.22.\n",
      "  \"10 in version 0.20 to 100 in 0.22.\", FutureWarning)\n"
     ]
    }
   ],
   "source": [
    "rf = RandomForestClassifier(**model_config['rf']['hyperparams'])\n",
    "rf.fit(features, labels)\n",
    "pred_rf = rf.predict_proba(features)"
   ]
  },
  {
   "cell_type": "code",
   "execution_count": 40,
   "metadata": {},
   "outputs": [],
   "source": [
    "pred_array = np.transpose(np.vstack((pred_logistic[:, 1], pred_lda[:, 1], pred_naivebayes[:, 1], pred_rf[:, 1], pred_xgboost[:, 1], pred_mlp[:, 1])))"
   ]
  },
  {
   "cell_type": "code",
   "execution_count": 41,
   "metadata": {},
   "outputs": [],
   "source": [
    "df = pd.DataFrame(pred_array, columns=['logistic', 'lda', 'naivebayes', 'rf', 'xgboost', 'mlp'])"
   ]
  },
  {
   "cell_type": "code",
   "execution_count": 45,
   "metadata": {},
   "outputs": [
    {
     "data": {
      "text/html": [
       "<style  type=\"text/css\" >\n",
       "    #T_e9774680_bd1d_11e9_8109_e0d55ebb67aarow0_col0 {\n",
       "            background-color:  #b40426;\n",
       "            color:  #f1f1f1;\n",
       "        }    #T_e9774680_bd1d_11e9_8109_e0d55ebb67aarow0_col1 {\n",
       "            background-color:  #e1dad6;\n",
       "            color:  #000000;\n",
       "        }    #T_e9774680_bd1d_11e9_8109_e0d55ebb67aarow0_col2 {\n",
       "            background-color:  #97b8ff;\n",
       "            color:  #000000;\n",
       "        }    #T_e9774680_bd1d_11e9_8109_e0d55ebb67aarow0_col3 {\n",
       "            background-color:  #eed0c0;\n",
       "            color:  #000000;\n",
       "        }    #T_e9774680_bd1d_11e9_8109_e0d55ebb67aarow0_col4 {\n",
       "            background-color:  #f1ccb8;\n",
       "            color:  #000000;\n",
       "        }    #T_e9774680_bd1d_11e9_8109_e0d55ebb67aarow0_col5 {\n",
       "            background-color:  #f08b6e;\n",
       "            color:  #000000;\n",
       "        }    #T_e9774680_bd1d_11e9_8109_e0d55ebb67aarow1_col0 {\n",
       "            background-color:  #b9d0f9;\n",
       "            color:  #000000;\n",
       "        }    #T_e9774680_bd1d_11e9_8109_e0d55ebb67aarow1_col1 {\n",
       "            background-color:  #b40426;\n",
       "            color:  #f1f1f1;\n",
       "        }    #T_e9774680_bd1d_11e9_8109_e0d55ebb67aarow1_col2 {\n",
       "            background-color:  #4f69d9;\n",
       "            color:  #000000;\n",
       "        }    #T_e9774680_bd1d_11e9_8109_e0d55ebb67aarow1_col3 {\n",
       "            background-color:  #f0cdbb;\n",
       "            color:  #000000;\n",
       "        }    #T_e9774680_bd1d_11e9_8109_e0d55ebb67aarow1_col4 {\n",
       "            background-color:  #f6bea4;\n",
       "            color:  #000000;\n",
       "        }    #T_e9774680_bd1d_11e9_8109_e0d55ebb67aarow1_col5 {\n",
       "            background-color:  #a3c2fe;\n",
       "            color:  #000000;\n",
       "        }    #T_e9774680_bd1d_11e9_8109_e0d55ebb67aarow2_col0 {\n",
       "            background-color:  #3b4cc0;\n",
       "            color:  #f1f1f1;\n",
       "        }    #T_e9774680_bd1d_11e9_8109_e0d55ebb67aarow2_col1 {\n",
       "            background-color:  #3b4cc0;\n",
       "            color:  #f1f1f1;\n",
       "        }    #T_e9774680_bd1d_11e9_8109_e0d55ebb67aarow2_col2 {\n",
       "            background-color:  #b40426;\n",
       "            color:  #f1f1f1;\n",
       "        }    #T_e9774680_bd1d_11e9_8109_e0d55ebb67aarow2_col3 {\n",
       "            background-color:  #3b4cc0;\n",
       "            color:  #f1f1f1;\n",
       "        }    #T_e9774680_bd1d_11e9_8109_e0d55ebb67aarow2_col4 {\n",
       "            background-color:  #3b4cc0;\n",
       "            color:  #f1f1f1;\n",
       "        }    #T_e9774680_bd1d_11e9_8109_e0d55ebb67aarow2_col5 {\n",
       "            background-color:  #3b4cc0;\n",
       "            color:  #f1f1f1;\n",
       "        }    #T_e9774680_bd1d_11e9_8109_e0d55ebb67aarow3_col0 {\n",
       "            background-color:  #d8dce2;\n",
       "            color:  #000000;\n",
       "        }    #T_e9774680_bd1d_11e9_8109_e0d55ebb67aarow3_col1 {\n",
       "            background-color:  #f3c8b2;\n",
       "            color:  #000000;\n",
       "        }    #T_e9774680_bd1d_11e9_8109_e0d55ebb67aarow3_col2 {\n",
       "            background-color:  #5f7fe8;\n",
       "            color:  #000000;\n",
       "        }    #T_e9774680_bd1d_11e9_8109_e0d55ebb67aarow3_col3 {\n",
       "            background-color:  #b40426;\n",
       "            color:  #f1f1f1;\n",
       "        }    #T_e9774680_bd1d_11e9_8109_e0d55ebb67aarow3_col4 {\n",
       "            background-color:  #c12b30;\n",
       "            color:  #f1f1f1;\n",
       "        }    #T_e9774680_bd1d_11e9_8109_e0d55ebb67aarow3_col5 {\n",
       "            background-color:  #c9d7f0;\n",
       "            color:  #000000;\n",
       "        }    #T_e9774680_bd1d_11e9_8109_e0d55ebb67aarow4_col0 {\n",
       "            background-color:  #d8dce2;\n",
       "            color:  #000000;\n",
       "        }    #T_e9774680_bd1d_11e9_8109_e0d55ebb67aarow4_col1 {\n",
       "            background-color:  #f6bda2;\n",
       "            color:  #000000;\n",
       "        }    #T_e9774680_bd1d_11e9_8109_e0d55ebb67aarow4_col2 {\n",
       "            background-color:  #536edd;\n",
       "            color:  #000000;\n",
       "        }    #T_e9774680_bd1d_11e9_8109_e0d55ebb67aarow4_col3 {\n",
       "            background-color:  #c32e31;\n",
       "            color:  #f1f1f1;\n",
       "        }    #T_e9774680_bd1d_11e9_8109_e0d55ebb67aarow4_col4 {\n",
       "            background-color:  #b40426;\n",
       "            color:  #f1f1f1;\n",
       "        }    #T_e9774680_bd1d_11e9_8109_e0d55ebb67aarow4_col5 {\n",
       "            background-color:  #c1d4f4;\n",
       "            color:  #000000;\n",
       "        }    #T_e9774680_bd1d_11e9_8109_e0d55ebb67aarow5_col0 {\n",
       "            background-color:  #f7ac8e;\n",
       "            color:  #000000;\n",
       "        }    #T_e9774680_bd1d_11e9_8109_e0d55ebb67aarow5_col1 {\n",
       "            background-color:  #93b5fe;\n",
       "            color:  #000000;\n",
       "        }    #T_e9774680_bd1d_11e9_8109_e0d55ebb67aarow5_col2 {\n",
       "            background-color:  #3b4cc0;\n",
       "            color:  #f1f1f1;\n",
       "        }    #T_e9774680_bd1d_11e9_8109_e0d55ebb67aarow5_col3 {\n",
       "            background-color:  #afcafc;\n",
       "            color:  #000000;\n",
       "        }    #T_e9774680_bd1d_11e9_8109_e0d55ebb67aarow5_col4 {\n",
       "            background-color:  #b1cbfc;\n",
       "            color:  #000000;\n",
       "        }    #T_e9774680_bd1d_11e9_8109_e0d55ebb67aarow5_col5 {\n",
       "            background-color:  #b40426;\n",
       "            color:  #f1f1f1;\n",
       "        }</style><table id=\"T_e9774680_bd1d_11e9_8109_e0d55ebb67aa\" ><thead>    <tr>        <th class=\"blank level0\" ></th>        <th class=\"col_heading level0 col0\" >logistic</th>        <th class=\"col_heading level0 col1\" >lda</th>        <th class=\"col_heading level0 col2\" >naivebayes</th>        <th class=\"col_heading level0 col3\" >rf</th>        <th class=\"col_heading level0 col4\" >xgboost</th>        <th class=\"col_heading level0 col5\" >mlp</th>    </tr></thead><tbody>\n",
       "                <tr>\n",
       "                        <th id=\"T_e9774680_bd1d_11e9_8109_e0d55ebb67aalevel0_row0\" class=\"row_heading level0 row0\" >logistic</th>\n",
       "                        <td id=\"T_e9774680_bd1d_11e9_8109_e0d55ebb67aarow0_col0\" class=\"data row0 col0\" >1</td>\n",
       "                        <td id=\"T_e9774680_bd1d_11e9_8109_e0d55ebb67aarow0_col1\" class=\"data row0 col1\" >0.95156</td>\n",
       "                        <td id=\"T_e9774680_bd1d_11e9_8109_e0d55ebb67aarow0_col2\" class=\"data row0 col2\" >0.922395</td>\n",
       "                        <td id=\"T_e9774680_bd1d_11e9_8109_e0d55ebb67aarow0_col3\" class=\"data row0 col3\" >0.959772</td>\n",
       "                        <td id=\"T_e9774680_bd1d_11e9_8109_e0d55ebb67aarow0_col4\" class=\"data row0 col4\" >0.959972</td>\n",
       "                        <td id=\"T_e9774680_bd1d_11e9_8109_e0d55ebb67aarow0_col5\" class=\"data row0 col5\" >0.976787</td>\n",
       "            </tr>\n",
       "            <tr>\n",
       "                        <th id=\"T_e9774680_bd1d_11e9_8109_e0d55ebb67aalevel0_row1\" class=\"row_heading level0 row1\" >lda</th>\n",
       "                        <td id=\"T_e9774680_bd1d_11e9_8109_e0d55ebb67aarow1_col0\" class=\"data row1 col0\" >0.95156</td>\n",
       "                        <td id=\"T_e9774680_bd1d_11e9_8109_e0d55ebb67aarow1_col1\" class=\"data row1 col1\" >1</td>\n",
       "                        <td id=\"T_e9774680_bd1d_11e9_8109_e0d55ebb67aarow1_col2\" class=\"data row1 col2\" >0.899524</td>\n",
       "                        <td id=\"T_e9774680_bd1d_11e9_8109_e0d55ebb67aarow1_col3\" class=\"data row1 col3\" >0.960904</td>\n",
       "                        <td id=\"T_e9774680_bd1d_11e9_8109_e0d55ebb67aarow1_col4\" class=\"data row1 col4\" >0.965018</td>\n",
       "                        <td id=\"T_e9774680_bd1d_11e9_8109_e0d55ebb67aarow1_col5\" class=\"data row1 col5\" >0.926322</td>\n",
       "            </tr>\n",
       "            <tr>\n",
       "                        <th id=\"T_e9774680_bd1d_11e9_8109_e0d55ebb67aalevel0_row2\" class=\"row_heading level0 row2\" >naivebayes</th>\n",
       "                        <td id=\"T_e9774680_bd1d_11e9_8109_e0d55ebb67aarow2_col0\" class=\"data row2 col0\" >0.922395</td>\n",
       "                        <td id=\"T_e9774680_bd1d_11e9_8109_e0d55ebb67aarow2_col1\" class=\"data row2 col1\" >0.899524</td>\n",
       "                        <td id=\"T_e9774680_bd1d_11e9_8109_e0d55ebb67aarow2_col2\" class=\"data row2 col2\" >1</td>\n",
       "                        <td id=\"T_e9774680_bd1d_11e9_8109_e0d55ebb67aarow2_col3\" class=\"data row2 col3\" >0.905173</td>\n",
       "                        <td id=\"T_e9774680_bd1d_11e9_8109_e0d55ebb67aarow2_col4\" class=\"data row2 col4\" >0.900823</td>\n",
       "                        <td id=\"T_e9774680_bd1d_11e9_8109_e0d55ebb67aarow2_col5\" class=\"data row2 col5\" >0.892328</td>\n",
       "            </tr>\n",
       "            <tr>\n",
       "                        <th id=\"T_e9774680_bd1d_11e9_8109_e0d55ebb67aalevel0_row3\" class=\"row_heading level0 row3\" >rf</th>\n",
       "                        <td id=\"T_e9774680_bd1d_11e9_8109_e0d55ebb67aarow3_col0\" class=\"data row3 col0\" >0.959772</td>\n",
       "                        <td id=\"T_e9774680_bd1d_11e9_8109_e0d55ebb67aarow3_col1\" class=\"data row3 col1\" >0.960904</td>\n",
       "                        <td id=\"T_e9774680_bd1d_11e9_8109_e0d55ebb67aarow3_col2\" class=\"data row3 col2\" >0.905173</td>\n",
       "                        <td id=\"T_e9774680_bd1d_11e9_8109_e0d55ebb67aarow3_col3\" class=\"data row3 col3\" >1</td>\n",
       "                        <td id=\"T_e9774680_bd1d_11e9_8109_e0d55ebb67aarow3_col4\" class=\"data row3 col4\" >0.996211</td>\n",
       "                        <td id=\"T_e9774680_bd1d_11e9_8109_e0d55ebb67aarow3_col5\" class=\"data row3 col5\" >0.93839</td>\n",
       "            </tr>\n",
       "            <tr>\n",
       "                        <th id=\"T_e9774680_bd1d_11e9_8109_e0d55ebb67aalevel0_row4\" class=\"row_heading level0 row4\" >xgboost</th>\n",
       "                        <td id=\"T_e9774680_bd1d_11e9_8109_e0d55ebb67aarow4_col0\" class=\"data row4 col0\" >0.959972</td>\n",
       "                        <td id=\"T_e9774680_bd1d_11e9_8109_e0d55ebb67aarow4_col1\" class=\"data row4 col1\" >0.965018</td>\n",
       "                        <td id=\"T_e9774680_bd1d_11e9_8109_e0d55ebb67aarow4_col2\" class=\"data row4 col2\" >0.900823</td>\n",
       "                        <td id=\"T_e9774680_bd1d_11e9_8109_e0d55ebb67aarow4_col3\" class=\"data row4 col3\" >0.996211</td>\n",
       "                        <td id=\"T_e9774680_bd1d_11e9_8109_e0d55ebb67aarow4_col4\" class=\"data row4 col4\" >1</td>\n",
       "                        <td id=\"T_e9774680_bd1d_11e9_8109_e0d55ebb67aarow4_col5\" class=\"data row4 col5\" >0.936049</td>\n",
       "            </tr>\n",
       "            <tr>\n",
       "                        <th id=\"T_e9774680_bd1d_11e9_8109_e0d55ebb67aalevel0_row5\" class=\"row_heading level0 row5\" >mlp</th>\n",
       "                        <td id=\"T_e9774680_bd1d_11e9_8109_e0d55ebb67aarow5_col0\" class=\"data row5 col0\" >0.976787</td>\n",
       "                        <td id=\"T_e9774680_bd1d_11e9_8109_e0d55ebb67aarow5_col1\" class=\"data row5 col1\" >0.926322</td>\n",
       "                        <td id=\"T_e9774680_bd1d_11e9_8109_e0d55ebb67aarow5_col2\" class=\"data row5 col2\" >0.892328</td>\n",
       "                        <td id=\"T_e9774680_bd1d_11e9_8109_e0d55ebb67aarow5_col3\" class=\"data row5 col3\" >0.93839</td>\n",
       "                        <td id=\"T_e9774680_bd1d_11e9_8109_e0d55ebb67aarow5_col4\" class=\"data row5 col4\" >0.936049</td>\n",
       "                        <td id=\"T_e9774680_bd1d_11e9_8109_e0d55ebb67aarow5_col5\" class=\"data row5 col5\" >1</td>\n",
       "            </tr>\n",
       "    </tbody></table>"
      ],
      "text/plain": [
       "<pandas.io.formats.style.Styler at 0x2eaad33ba20>"
      ]
     },
     "execution_count": 45,
     "metadata": {},
     "output_type": "execute_result"
    }
   ],
   "source": [
    "corr = df.corr()\n",
    "corr.style.background_gradient(cmap='coolwarm')\n",
    "# 'RdBu_r' & 'BrBG' are other good diverging colormaps"
   ]
  },
  {
   "cell_type": "code",
   "execution_count": 50,
   "metadata": {},
   "outputs": [
    {
     "data": {
      "text/plain": [
       "<matplotlib.axes._subplots.AxesSubplot at 0x2eabe5a1550>"
      ]
     },
     "execution_count": 50,
     "metadata": {},
     "output_type": "execute_result"
    },
    {
     "data": {
      "image/png": "[encoded data removed]",
      "text/plain": [
       "<Figure size 432x288 with 1 Axes>"
      ]
     },
     "metadata": {
      "needs_background": "light"
     },
     "output_type": "display_data"
    }
   ],
   "source": [
    "sns.distplot(pred_logistic[:, 1])"
   ]
  },
  {
   "cell_type": "code",
   "execution_count": 51,
   "metadata": {},
   "outputs": [
    {
     "data": {
      "text/plain": [
       "<matplotlib.axes._subplots.AxesSubplot at 0x2eabe6002b0>"
      ]
     },
     "execution_count": 51,
     "metadata": {},
     "output_type": "execute_result"
    },
    {
     "data": {
      "image/png": "[encoded data removed]",
      "text/plain": [
       "<Figure size 432x288 with 1 Axes>"
      ]
     },
     "metadata": {
      "needs_background": "light"
     },
     "output_type": "display_data"
    }
   ],
   "source": [
    "sns.distplot(pred_lda[:, 1])"
   ]
  },
  {
   "cell_type": "code",
   "execution_count": null,
   "metadata": {},
   "outputs": [],
   "source": []
  }
 ],
 "metadata": {
  "kernelspec": {
   "display_name": "Python 3",
   "language": "python",
   "name": "python3"
  },
  "language_info": {
   "codemirror_mode": {
    "name": "ipython",
    "version": 3
   },
   "file_extension": ".py",
   "mimetype": "text/x-python",
   "name": "python",
   "nbconvert_exporter": "python",
   "pygments_lexer": "ipython3",
   "version": "3.7.3"
  }
 },
 "nbformat": 4,
 "nbformat_minor": 2
}
