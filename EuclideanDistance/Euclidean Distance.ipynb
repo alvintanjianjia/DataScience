{
 "cells": [
  {
   "cell_type": "code",
   "execution_count": 71,
   "metadata": {},
   "outputs": [],
   "source": [
    "#import pandas as pd\n",
    "import pandas as pd\n",
    "import numpy as np\n",
    "import matplotlib.pyplot as plt\n",
    "import seaborn as sns\n",
    "%matplotlib inline\n",
    "\n",
    "import sklearn\n",
    "from sklearn import preprocessing\n",
    "\n",
    "from sklearn.feature_extraction.text import CountVectorizer\n",
    "from sklearn.metrics.pairwise import cosine_similarity, euclidean_distances\n",
    "\n",
    "#restaurants = pd.read_csv('List of restaurants.csv') \n",
    "#file = open('List of restaurants.csv')\n",
    "\n",
    "#for line in file:\n",
    "    #print(line)\n",
    "    #line_separated = line.split(',')\n",
    "    #print(line_separated)"
   ]
  },
  {
   "cell_type": "code",
   "execution_count": 57,
   "metadata": {},
   "outputs": [],
   "source": [
    "restaurants = pd.read_csv('List of restaurants.csv') "
   ]
  },
  {
   "cell_type": "markdown",
   "metadata": {},
   "source": [
    "### This is to display the top 10"
   ]
  },
  {
   "cell_type": "code",
   "execution_count": 58,
   "metadata": {},
   "outputs": [
    {
     "data": {
      "text/html": [
       "<div>\n",
       "<style scoped>\n",
       "    .dataframe tbody tr th:only-of-type {\n",
       "        vertical-align: middle;\n",
       "    }\n",
       "\n",
       "    .dataframe tbody tr th {\n",
       "        vertical-align: top;\n",
       "    }\n",
       "\n",
       "    .dataframe thead th {\n",
       "        text-align: right;\n",
       "    }\n",
       "</style>\n",
       "<table border=\"1\" class=\"dataframe\">\n",
       "  <thead>\n",
       "    <tr style=\"text-align: right;\">\n",
       "      <th></th>\n",
       "      <th>Name</th>\n",
       "      <th>Cuisine</th>\n",
       "      <th>Food Nutrition Score</th>\n",
       "      <th>Distance (km)</th>\n",
       "      <th>Price for one meal (per pax/per set)</th>\n",
       "    </tr>\n",
       "  </thead>\n",
       "  <tbody>\n",
       "    <tr>\n",
       "      <th>0</th>\n",
       "      <td>Family Yong Tau Foo</td>\n",
       "      <td>Oriental</td>\n",
       "      <td>0.50</td>\n",
       "      <td>5.5</td>\n",
       "      <td>7.0</td>\n",
       "    </tr>\n",
       "    <tr>\n",
       "      <th>1</th>\n",
       "      <td>Weng Soon Bak Kut Teh</td>\n",
       "      <td>Oriental</td>\n",
       "      <td>0.70</td>\n",
       "      <td>1.9</td>\n",
       "      <td>6.5</td>\n",
       "    </tr>\n",
       "    <tr>\n",
       "      <th>2</th>\n",
       "      <td>Weng Soon Lotus Root</td>\n",
       "      <td>Oriental</td>\n",
       "      <td>0.40</td>\n",
       "      <td>1.9</td>\n",
       "      <td>7.0</td>\n",
       "    </tr>\n",
       "    <tr>\n",
       "      <th>3</th>\n",
       "      <td>Weng Soon Fried Chicken + Rice set</td>\n",
       "      <td>Western</td>\n",
       "      <td>0.95</td>\n",
       "      <td>1.9</td>\n",
       "      <td>7.0</td>\n",
       "    </tr>\n",
       "    <tr>\n",
       "      <th>4</th>\n",
       "      <td>Weng Soon Jawa Mee</td>\n",
       "      <td>Oriental</td>\n",
       "      <td>0.75</td>\n",
       "      <td>1.9</td>\n",
       "      <td>6.0</td>\n",
       "    </tr>\n",
       "    <tr>\n",
       "      <th>5</th>\n",
       "      <td>Weng Soon Satay</td>\n",
       "      <td>Malay</td>\n",
       "      <td>0.90</td>\n",
       "      <td>1.9</td>\n",
       "      <td>10.0</td>\n",
       "    </tr>\n",
       "    <tr>\n",
       "      <th>6</th>\n",
       "      <td>Weng Soon Char Kuey Teow</td>\n",
       "      <td>Oriental</td>\n",
       "      <td>0.95</td>\n",
       "      <td>1.9</td>\n",
       "      <td>6.5</td>\n",
       "    </tr>\n",
       "    <tr>\n",
       "      <th>7</th>\n",
       "      <td>PizzaHut (USJ 9)</td>\n",
       "      <td>Italian</td>\n",
       "      <td>0.30</td>\n",
       "      <td>7.0</td>\n",
       "      <td>11.0</td>\n",
       "    </tr>\n",
       "    <tr>\n",
       "      <th>8</th>\n",
       "      <td>Dominos (Alam Megah)</td>\n",
       "      <td>Italian</td>\n",
       "      <td>0.20</td>\n",
       "      <td>3.2</td>\n",
       "      <td>11.7</td>\n",
       "    </tr>\n",
       "    <tr>\n",
       "      <th>9</th>\n",
       "      <td>Sri Melur</td>\n",
       "      <td>Mamak</td>\n",
       "      <td>0.80</td>\n",
       "      <td>1.9</td>\n",
       "      <td>8.0</td>\n",
       "    </tr>\n",
       "  </tbody>\n",
       "</table>\n",
       "</div>"
      ],
      "text/plain": [
       "                                 Name   Cuisine  Food Nutrition Score  \\\n",
       "0                 Family Yong Tau Foo  Oriental                  0.50   \n",
       "1               Weng Soon Bak Kut Teh  Oriental                  0.70   \n",
       "2                Weng Soon Lotus Root  Oriental                  0.40   \n",
       "3  Weng Soon Fried Chicken + Rice set   Western                  0.95   \n",
       "4                  Weng Soon Jawa Mee  Oriental                  0.75   \n",
       "5                     Weng Soon Satay     Malay                  0.90   \n",
       "6            Weng Soon Char Kuey Teow  Oriental                  0.95   \n",
       "7                    PizzaHut (USJ 9)   Italian                  0.30   \n",
       "8                Dominos (Alam Megah)   Italian                  0.20   \n",
       "9                          Sri Melur      Mamak                  0.80   \n",
       "\n",
       "   Distance (km)  Price for one meal (per pax/per set)  \n",
       "0            5.5                                   7.0  \n",
       "1            1.9                                   6.5  \n",
       "2            1.9                                   7.0  \n",
       "3            1.9                                   7.0  \n",
       "4            1.9                                   6.0  \n",
       "5            1.9                                  10.0  \n",
       "6            1.9                                   6.5  \n",
       "7            7.0                                  11.0  \n",
       "8            3.2                                  11.7  \n",
       "9            1.9                                   8.0  "
      ]
     },
     "execution_count": 58,
     "metadata": {},
     "output_type": "execute_result"
    }
   ],
   "source": [
    "restaurants.head(10)"
   ]
  },
  {
   "cell_type": "code",
   "execution_count": 59,
   "metadata": {},
   "outputs": [
    {
     "data": {
      "text/html": [
       "<div>\n",
       "<style scoped>\n",
       "    .dataframe tbody tr th:only-of-type {\n",
       "        vertical-align: middle;\n",
       "    }\n",
       "\n",
       "    .dataframe tbody tr th {\n",
       "        vertical-align: top;\n",
       "    }\n",
       "\n",
       "    .dataframe thead th {\n",
       "        text-align: right;\n",
       "    }\n",
       "</style>\n",
       "<table border=\"1\" class=\"dataframe\">\n",
       "  <thead>\n",
       "    <tr style=\"text-align: right;\">\n",
       "      <th></th>\n",
       "      <th>Name</th>\n",
       "      <th>Cuisine</th>\n",
       "      <th>Food Nutrition Score</th>\n",
       "      <th>Distance (km)</th>\n",
       "      <th>Price for one meal (per pax/per set)</th>\n",
       "    </tr>\n",
       "  </thead>\n",
       "  <tbody>\n",
       "    <tr>\n",
       "      <th>22</th>\n",
       "      <td>Uncle Jack (Giant USJ)</td>\n",
       "      <td>Western</td>\n",
       "      <td>0.65</td>\n",
       "      <td>7.5</td>\n",
       "      <td>4.2</td>\n",
       "    </tr>\n",
       "    <tr>\n",
       "      <th>33</th>\n",
       "      <td>SS19 Penang Favorites Hokkien Mee</td>\n",
       "      <td>Oreintal</td>\n",
       "      <td>0.80</td>\n",
       "      <td>7.9</td>\n",
       "      <td>5.5</td>\n",
       "    </tr>\n",
       "    <tr>\n",
       "      <th>4</th>\n",
       "      <td>Weng Soon Jawa Mee</td>\n",
       "      <td>Oriental</td>\n",
       "      <td>0.75</td>\n",
       "      <td>1.9</td>\n",
       "      <td>6.0</td>\n",
       "    </tr>\n",
       "    <tr>\n",
       "      <th>34</th>\n",
       "      <td>SS19 Penang Favorites Loh Mee</td>\n",
       "      <td>Oriental</td>\n",
       "      <td>0.75</td>\n",
       "      <td>7.9</td>\n",
       "      <td>6.0</td>\n",
       "    </tr>\n",
       "    <tr>\n",
       "      <th>1</th>\n",
       "      <td>Weng Soon Bak Kut Teh</td>\n",
       "      <td>Oriental</td>\n",
       "      <td>0.70</td>\n",
       "      <td>1.9</td>\n",
       "      <td>6.5</td>\n",
       "    </tr>\n",
       "  </tbody>\n",
       "</table>\n",
       "</div>"
      ],
      "text/plain": [
       "                                 Name   Cuisine  Food Nutrition Score  \\\n",
       "22             Uncle Jack (Giant USJ)   Western                  0.65   \n",
       "33  SS19 Penang Favorites Hokkien Mee  Oreintal                  0.80   \n",
       "4                  Weng Soon Jawa Mee  Oriental                  0.75   \n",
       "34      SS19 Penang Favorites Loh Mee  Oriental                  0.75   \n",
       "1               Weng Soon Bak Kut Teh  Oriental                  0.70   \n",
       "\n",
       "    Distance (km)  Price for one meal (per pax/per set)  \n",
       "22            7.5                                   4.2  \n",
       "33            7.9                                   5.5  \n",
       "4             1.9                                   6.0  \n",
       "34            7.9                                   6.0  \n",
       "1             1.9                                   6.5  "
      ]
     },
     "execution_count": 59,
     "metadata": {},
     "output_type": "execute_result"
    }
   ],
   "source": [
    "restaurants.sort_values('Price for one meal (per pax/per set)', ascending=True).head()"
   ]
  },
  {
   "cell_type": "code",
   "execution_count": 60,
   "metadata": {},
   "outputs": [],
   "source": [
    "restaurants['Food Nutrition Score']=(restaurants['Food Nutrition Score']-restaurants['Food Nutrition Score'].min())/(restaurants['Food Nutrition Score'].max()-restaurants['Food Nutrition Score'].min())\n",
    "restaurants['Distance (km)']=(restaurants['Distance (km)']-restaurants['Distance (km)'].min())/(restaurants['Distance (km)'].max()-restaurants['Distance (km)'].min())\n",
    "restaurants['Price for one meal (per pax/per set)']=(restaurants['Price for one meal (per pax/per set)']-restaurants['Price for one meal (per pax/per set)'].min())/(restaurants['Price for one meal (per pax/per set)'].max()-restaurants['Price for one meal (per pax/per set)'].min())"
   ]
  },
  {
   "cell_type": "code",
   "execution_count": 61,
   "metadata": {},
   "outputs": [
    {
     "data": {
      "text/plain": [
       "<matplotlib.axes._subplots.AxesSubplot at 0x1594cd22d30>"
      ]
     },
     "execution_count": 61,
     "metadata": {},
     "output_type": "execute_result"
    },
    {
     "data": {
      "image/png": "[encoded data removed]",
      "text/plain": [
       "<Figure size 432x288 with 1 Axes>"
      ]
     },
     "metadata": {
      "needs_background": "light"
     },
     "output_type": "display_data"
    }
   ],
   "source": [
    "restaurants.plot()"
   ]
  },
  {
   "cell_type": "code",
   "execution_count": 62,
   "metadata": {},
   "outputs": [
    {
     "data": {
      "text/plain": [
       "<BarContainer object of 48 artists>"
      ]
     },
     "execution_count": 62,
     "metadata": {},
     "output_type": "execute_result"
    },
    {
     "data": {
      "image/png": "[encoded data removed]",
      "text/plain": [
       "<Figure size 432x288 with 1 Axes>"
      ]
     },
     "metadata": {
      "needs_background": "light"
     },
     "output_type": "display_data"
    }
   ],
   "source": [
    "plt.barh(restaurants['Cuisine'],restaurants['Price for one meal (per pax/per set)'])"
   ]
  },
  {
   "cell_type": "code",
   "execution_count": 63,
   "metadata": {},
   "outputs": [
    {
     "data": {
      "image/png": "[encoded data removed]",
      "text/plain": [
       "<Figure size 432x288 with 1 Axes>"
      ]
     },
     "metadata": {
      "needs_background": "light"
     },
     "output_type": "display_data"
    }
   ],
   "source": [
    "plot = sns.boxplot(x='Cuisine', y='Price for one meal (per pax/per set)', data=restaurants )"
   ]
  },
  {
   "cell_type": "code",
   "execution_count": 64,
   "metadata": {},
   "outputs": [
    {
     "data": {
      "image/png": "[encoded data removed]",
      "text/plain": [
       "<Figure size 432x288 with 1 Axes>"
      ]
     },
     "metadata": {
      "needs_background": "light"
     },
     "output_type": "display_data"
    }
   ],
   "source": [
    "plot = sns.boxplot(x='Cuisine', y='Distance (km)', data=restaurants )"
   ]
  },
  {
   "cell_type": "code",
   "execution_count": 65,
   "metadata": {},
   "outputs": [
    {
     "data": {
      "image/png": "[encoded data removed]",
      "text/plain": [
       "<Figure size 432x288 with 1 Axes>"
      ]
     },
     "metadata": {
      "needs_background": "light"
     },
     "output_type": "display_data"
    }
   ],
   "source": [
    "plot = sns.boxplot(x='Cuisine', y='Food Nutrition Score', data=restaurants )"
   ]
  },
  {
   "cell_type": "code",
   "execution_count": 69,
   "metadata": {},
   "outputs": [],
   "source": [
    "int_similarity = cosine_similarity(restaurants[['Distance (km)', 'Food Nutrition Score' , 'Price for one meal (per pax/per set)']])"
   ]
  },
  {
   "cell_type": "code",
   "execution_count": 72,
   "metadata": {},
   "outputs": [],
   "source": [
    "restaurant_num = restaurants[['Distance (km)', 'Food Nutrition Score' , 'Price for one meal (per pax/per set)']]"
   ]
  },
  {
   "cell_type": "code",
   "execution_count": 74,
   "metadata": {},
   "outputs": [
    {
     "data": {
      "text/html": [
       "<div>\n",
       "<style scoped>\n",
       "    .dataframe tbody tr th:only-of-type {\n",
       "        vertical-align: middle;\n",
       "    }\n",
       "\n",
       "    .dataframe tbody tr th {\n",
       "        vertical-align: top;\n",
       "    }\n",
       "\n",
       "    .dataframe thead th {\n",
       "        text-align: right;\n",
       "    }\n",
       "</style>\n",
       "<table border=\"1\" class=\"dataframe\">\n",
       "  <thead>\n",
       "    <tr style=\"text-align: right;\">\n",
       "      <th></th>\n",
       "      <th>Distance (km)</th>\n",
       "      <th>Food Nutrition Score</th>\n",
       "      <th>Price for one meal (per pax/per set)</th>\n",
       "    </tr>\n",
       "  </thead>\n",
       "  <tbody>\n",
       "    <tr>\n",
       "      <th>0</th>\n",
       "      <td>0.369128</td>\n",
       "      <td>0.400000</td>\n",
       "      <td>0.090909</td>\n",
       "    </tr>\n",
       "    <tr>\n",
       "      <th>1</th>\n",
       "      <td>0.127517</td>\n",
       "      <td>0.666667</td>\n",
       "      <td>0.074675</td>\n",
       "    </tr>\n",
       "    <tr>\n",
       "      <th>2</th>\n",
       "      <td>0.127517</td>\n",
       "      <td>0.266667</td>\n",
       "      <td>0.090909</td>\n",
       "    </tr>\n",
       "    <tr>\n",
       "      <th>3</th>\n",
       "      <td>0.127517</td>\n",
       "      <td>1.000000</td>\n",
       "      <td>0.090909</td>\n",
       "    </tr>\n",
       "    <tr>\n",
       "      <th>4</th>\n",
       "      <td>0.127517</td>\n",
       "      <td>0.733333</td>\n",
       "      <td>0.058442</td>\n",
       "    </tr>\n",
       "  </tbody>\n",
       "</table>\n",
       "</div>"
      ],
      "text/plain": [
       "   Distance (km)  Food Nutrition Score  Price for one meal (per pax/per set)\n",
       "0       0.369128              0.400000                              0.090909\n",
       "1       0.127517              0.666667                              0.074675\n",
       "2       0.127517              0.266667                              0.090909\n",
       "3       0.127517              1.000000                              0.090909\n",
       "4       0.127517              0.733333                              0.058442"
      ]
     },
     "execution_count": 74,
     "metadata": {},
     "output_type": "execute_result"
    }
   ],
   "source": [
    "restaurant_num.head()"
   ]
  },
  {
   "cell_type": "code",
   "execution_count": 96,
   "metadata": {},
   "outputs": [],
   "source": [
    "euclidean_array =  euclidean_distances(restaurant_num, [[1, 0, 1]])\n",
    "\n",
    "smallest_euclidean = np.min(euclidean_array) \n",
    "smallest_euclidean_index = np.argmin(euclidean_array)"
   ]
  },
  {
   "cell_type": "code",
   "execution_count": 97,
   "metadata": {},
   "outputs": [
    {
     "data": {
      "text/plain": [
       "18"
      ]
     },
     "execution_count": 97,
     "metadata": {},
     "output_type": "execute_result"
    }
   ],
   "source": [
    "smallest_euclidean_index"
   ]
  },
  {
   "cell_type": "code",
   "execution_count": 98,
   "metadata": {},
   "outputs": [
    {
     "data": {
      "text/plain": [
       "Name                                    Sakae Sushi (Subang Parade)\n",
       "Cuisine                                                    Japanese\n",
       "Food Nutrition Score                                       0.266667\n",
       "Distance (km)                                              0.731544\n",
       "Price for one meal (per pax/per set)                       0.350649\n",
       "Name: 18, dtype: object"
      ]
     },
     "execution_count": 98,
     "metadata": {},
     "output_type": "execute_result"
    }
   ],
   "source": [
    "restaurants.iloc[18, :]"
   ]
  },
  {
   "cell_type": "code",
   "execution_count": null,
   "metadata": {},
   "outputs": [],
   "source": []
  }
 ],
 "metadata": {
  "kernelspec": {
   "display_name": "Python 3",
   "language": "python",
   "name": "python3"
  },
  "language_info": {
   "codemirror_mode": {
    "name": "ipython",
    "version": 3
   },
   "file_extension": ".py",
   "mimetype": "text/x-python",
   "name": "python",
   "nbconvert_exporter": "python",
   "pygments_lexer": "ipython3",
   "version": "3.7.3"
  }
 },
 "nbformat": 4,
 "nbformat_minor": 2
}
